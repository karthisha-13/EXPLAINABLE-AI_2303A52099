{
  "nbformat": 4,
  "nbformat_minor": 0,
  "metadata": {
    "colab": {
      "provenance": [],
      "authorship_tag": "ABX9TyMftXrcrOylQqu+qN9KeBM0",
      "include_colab_link": true
    },
    "kernelspec": {
      "name": "python3",
      "display_name": "Python 3"
    },
    "language_info": {
      "name": "python"
    }
  },
  "cells": [
    {
      "cell_type": "markdown",
      "metadata": {
        "id": "view-in-github",
        "colab_type": "text"
      },
      "source": [
        "<a href=\"https://colab.research.google.com/github/karthisha-13/EXPLAINABLE-AI_2303A52099_PRATICE-/blob/main/Pratice_problem_5.ipynb\" target=\"_parent\"><img src=\"https://colab.research.google.com/assets/colab-badge.svg\" alt=\"Open In Colab\"/></a>"
      ]
    },
    {
      "cell_type": "code",
      "execution_count": 2,
      "metadata": {
        "colab": {
          "base_uri": "https://localhost:8080/"
        },
        "id": "xchtkq52Ecrr",
        "outputId": "aefe35be-32fc-4ffe-b2db-c1382fa33b7c"
      },
      "outputs": [
        {
          "output_type": "stream",
          "name": "stdout",
          "text": [
            "Sales = 10.9957 + 0.1992*Facebook + 0.0069*Newspaper\n",
            "Predicted sales for Facebook=50, Newspaper=30: 21.17\n",
            "✅ Model trained, predictions made, and SHAP plots saved.\n"
          ]
        }
      ],
      "source": [
        "import pandas as pd\n",
        "from sklearn.linear_model import LinearRegression\n",
        "import shap\n",
        "import matplotlib.pyplot as plt\n",
        "\n",
        "df = pd.read_excel('/content/Marketing_Dataset.xlsx')\n",
        "\n",
        "X = df[['facebook', 'newspaper']]\n",
        "y = df['sales']\n",
        "\n",
        "model = LinearRegression()\n",
        "model.fit(X, y)\n",
        "\n",
        "intercept = model.intercept_\n",
        "coef = model.coef_\n",
        "print(f\"Sales = {intercept:.4f} + {coef[0]:.4f}*Facebook + {coef[1]:.4f}*Newspaper\")\n",
        "\n",
        "example_input = pd.DataFrame([[50, 30]], columns=['facebook', 'newspaper'])\n",
        "pred1 = model.predict(example_input)[0]\n",
        "print(f\"Predicted sales for Facebook=50, Newspaper=30: {pred1:.2f}\")\n",
        "\n",
        "explainer = shap.Explainer(model, X)\n",
        "shap_values = explainer(X)\n",
        "\n",
        "\n",
        "shap.plots.waterfall(shap_values[0], show=False)\n",
        "plt.savefig('shap_waterfall.png')\n",
        "plt.close()\n",
        "\n",
        "shap.plots.force(shap_values[0], matplotlib=True, show=False)\n",
        "plt.savefig('shap_force.png')\n",
        "plt.close()\n",
        "\n",
        "shap.summary_plot(shap_values, X, show=False)\n",
        "plt.savefig('shap_summary.png')\n",
        "plt.close()\n",
        "\n",
        "print(\"✅ Model trained, predictions made, and SHAP plots saved.\")"
      ]
    }
  ]
}