{
  "nbformat": 4,
  "nbformat_minor": 0,
  "metadata": {
    "colab": {
      "provenance": [],
      "authorship_tag": "ABX9TyOf/1NU4KZdLBHsugmD8ujQ",
      "include_colab_link": true
    },
    "kernelspec": {
      "name": "python3",
      "display_name": "Python 3"
    },
    "language_info": {
      "name": "python"
    }
  },
  "cells": [
    {
      "cell_type": "markdown",
      "metadata": {
        "id": "view-in-github",
        "colab_type": "text"
      },
      "source": [
        "<a href=\"https://colab.research.google.com/github/karthisha-13/EXPLAINABLE-AI_2303A52099_PRATICE-/blob/main/Pratice_problem_4.ipynb\" target=\"_parent\"><img src=\"https://colab.research.google.com/assets/colab-badge.svg\" alt=\"Open In Colab\"/></a>"
      ]
    },
    {
      "cell_type": "code",
      "execution_count": 4,
      "metadata": {
        "colab": {
          "base_uri": "https://localhost:8080/"
        },
        "id": "SQjcM-iNCwjh",
        "outputId": "29697da6-600d-4f2c-9ef1-31c973cc4e23"
      },
      "outputs": [
        {
          "output_type": "stream",
          "name": "stdout",
          "text": [
            "Sales = 993.92 + 8.22*Intelligence + 49.71*Extroversion\n",
            "Predicted sales for Int=100, Ext=25: $3058.63\n",
            "Predicted sales for Int=120, Ext=18: $2875.07\n"
          ]
        },
        {
          "output_type": "stream",
          "name": "stderr",
          "text": [
            "/usr/local/lib/python3.11/dist-packages/sklearn/utils/validation.py:2739: UserWarning: X does not have valid feature names, but LinearRegression was fitted with feature names\n",
            "  warnings.warn(\n",
            "/usr/local/lib/python3.11/dist-packages/sklearn/utils/validation.py:2739: UserWarning: X does not have valid feature names, but LinearRegression was fitted with feature names\n",
            "  warnings.warn(\n"
          ]
        },
        {
          "output_type": "stream",
          "name": "stdout",
          "text": [
            "Intelligence coefficient: 8.22\n",
            "Extroversion coefficient: 49.71\n",
            "Intercept: 993.92\n"
          ]
        }
      ],
      "source": [
        "import pandas as pd\n",
        "from sklearn.linear_model import LinearRegression\n",
        "import shap\n",
        "import matplotlib.pyplot as plt\n",
        "\n",
        "df = pd.read_excel('/content/Int_Ext.xlsx')\n",
        "X = df[['Int', 'Ext']].dropna()\n",
        "y = df['sal'].dropna()\n",
        "\n",
        "model = LinearRegression()\n",
        "model.fit(X, y)\n",
        "\n",
        "intercept = model.intercept_\n",
        "coef = model.coef_\n",
        "print(f\"Sales = {intercept:.2f} + {coef[0]:.2f}*Intelligence + {coef[1]:.2f}*Extroversion\")\n",
        "\n",
        "pred1 = model.predict([[100, 25]])\n",
        "pred2 = model.predict([[120, 18]])\n",
        "print(f\"Predicted sales for Int=100, Ext=25: ${pred1[0]:.2f}\")\n",
        "print(f\"Predicted sales for Int=120, Ext=18: ${pred2[0]:.2f}\")\n",
        "\n",
        "explainer = shap.Explainer(model, X)\n",
        "shap_values = explainer(X)\n",
        "\n",
        "\n",
        "shap.plots.waterfall(shap_values[0], show=False)\n",
        "plt.savefig('shap_waterfall.png')\n",
        "plt.close()\n",
        "\n",
        "shap.plots.force(shap_values[0], matplotlib=True, show=False)\n",
        "plt.savefig('shap_force.png')\n",
        "plt.close()\n",
        "\n",
        "shap.summary_plot(shap_values, X, show=False)\n",
        "plt.savefig('shap_summary.png')\n",
        "plt.close()\n",
        "\n",
        "for i, name in enumerate(['Intelligence', 'Extroversion']):\n",
        "    print(f\"{name} coefficient: {coef[i]:.2f}\")\n",
        "\n",
        "print(f\"Intercept: {intercept:.2f}\")"
      ]
    }
  ]
}